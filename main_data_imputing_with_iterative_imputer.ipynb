{
 "cells": [
  {
   "cell_type": "code",
   "execution_count": 1,
   "id": "8cf6ab41",
   "metadata": {},
   "outputs": [],
   "source": [
    "import pandas as pd\n",
    "import numpy as np\n",
    "from sklearn.linear_model import LinearRegression\n",
    "import matplotlib.pyplot as plt\n",
    "from sklearn.ensemble import RandomForestRegressor"
   ]
  },
  {
   "cell_type": "code",
   "execution_count": 2,
   "id": "ba9e312d",
   "metadata": {},
   "outputs": [],
   "source": [
    "df=pd.read_excel('main_data.xlsx')"
   ]
  },
  {
   "cell_type": "code",
   "execution_count": 3,
   "id": "7e1db980",
   "metadata": {},
   "outputs": [
    {
     "data": {
      "text/html": [
       "<div>\n",
       "<style scoped>\n",
       "    .dataframe tbody tr th:only-of-type {\n",
       "        vertical-align: middle;\n",
       "    }\n",
       "\n",
       "    .dataframe tbody tr th {\n",
       "        vertical-align: top;\n",
       "    }\n",
       "\n",
       "    .dataframe thead th {\n",
       "        text-align: right;\n",
       "    }\n",
       "</style>\n",
       "<table border=\"1\" class=\"dataframe\">\n",
       "  <thead>\n",
       "    <tr style=\"text-align: right;\">\n",
       "      <th></th>\n",
       "      <th>SBET  a\\n(m2/g)</th>\n",
       "      <th>Vtoal b\\n(cm3/g)</th>\n",
       "      <th>Vmicro c\\n(cm3/g)</th>\n",
       "      <th>C</th>\n",
       "      <th>H</th>\n",
       "      <th>N</th>\n",
       "      <th>O *</th>\n",
       "      <th>P(Bar)</th>\n",
       "      <th>T</th>\n",
       "      <th>C02 uptake amount</th>\n",
       "    </tr>\n",
       "  </thead>\n",
       "  <tbody>\n",
       "    <tr>\n",
       "      <th>count</th>\n",
       "      <td>402.000000</td>\n",
       "      <td>402.000000</td>\n",
       "      <td>402.000000</td>\n",
       "      <td>398.000000</td>\n",
       "      <td>3.710000e+02</td>\n",
       "      <td>402.000000</td>\n",
       "      <td>379.000000</td>\n",
       "      <td>402.000000</td>\n",
       "      <td>402.000000</td>\n",
       "      <td>402.000000</td>\n",
       "    </tr>\n",
       "    <tr>\n",
       "      <th>mean</th>\n",
       "      <td>1492.535249</td>\n",
       "      <td>0.766845</td>\n",
       "      <td>0.515224</td>\n",
       "      <td>77.046859</td>\n",
       "      <td>1.753854e+00</td>\n",
       "      <td>3.614527</td>\n",
       "      <td>17.660554</td>\n",
       "      <td>0.902736</td>\n",
       "      <td>18.905473</td>\n",
       "      <td>3.566667</td>\n",
       "    </tr>\n",
       "    <tr>\n",
       "      <th>std</th>\n",
       "      <td>705.884298</td>\n",
       "      <td>0.460966</td>\n",
       "      <td>0.271530</td>\n",
       "      <td>11.081328</td>\n",
       "      <td>1.351289e+00</td>\n",
       "      <td>3.201667</td>\n",
       "      <td>10.206152</td>\n",
       "      <td>0.270918</td>\n",
       "      <td>10.747430</td>\n",
       "      <td>1.547911</td>\n",
       "    </tr>\n",
       "    <tr>\n",
       "      <th>min</th>\n",
       "      <td>18.000000</td>\n",
       "      <td>0.020000</td>\n",
       "      <td>0.040000</td>\n",
       "      <td>40.400000</td>\n",
       "      <td>-7.105427e-15</td>\n",
       "      <td>0.000000</td>\n",
       "      <td>0.000000</td>\n",
       "      <td>0.150000</td>\n",
       "      <td>0.000000</td>\n",
       "      <td>0.360000</td>\n",
       "    </tr>\n",
       "    <tr>\n",
       "      <th>25%</th>\n",
       "      <td>1000.750000</td>\n",
       "      <td>0.450039</td>\n",
       "      <td>0.320000</td>\n",
       "      <td>70.557500</td>\n",
       "      <td>8.850000e-01</td>\n",
       "      <td>1.300000</td>\n",
       "      <td>10.610000</td>\n",
       "      <td>1.000000</td>\n",
       "      <td>25.000000</td>\n",
       "      <td>2.532500</td>\n",
       "    </tr>\n",
       "    <tr>\n",
       "      <th>50%</th>\n",
       "      <td>1436.500000</td>\n",
       "      <td>0.660000</td>\n",
       "      <td>0.480000</td>\n",
       "      <td>79.175000</td>\n",
       "      <td>1.620000e+00</td>\n",
       "      <td>2.605000</td>\n",
       "      <td>15.700000</td>\n",
       "      <td>1.000000</td>\n",
       "      <td>25.000000</td>\n",
       "      <td>3.635000</td>\n",
       "    </tr>\n",
       "    <tr>\n",
       "      <th>75%</th>\n",
       "      <td>1952.000000</td>\n",
       "      <td>0.967500</td>\n",
       "      <td>0.730000</td>\n",
       "      <td>85.070000</td>\n",
       "      <td>2.420000e+00</td>\n",
       "      <td>5.030000</td>\n",
       "      <td>22.460000</td>\n",
       "      <td>1.000000</td>\n",
       "      <td>25.000000</td>\n",
       "      <td>4.407500</td>\n",
       "    </tr>\n",
       "    <tr>\n",
       "      <th>max</th>\n",
       "      <td>3247.000000</td>\n",
       "      <td>3.090000</td>\n",
       "      <td>1.180000</td>\n",
       "      <td>96.960000</td>\n",
       "      <td>1.330000e+01</td>\n",
       "      <td>15.880000</td>\n",
       "      <td>54.000000</td>\n",
       "      <td>1.000000</td>\n",
       "      <td>25.000000</td>\n",
       "      <td>8.200000</td>\n",
       "    </tr>\n",
       "  </tbody>\n",
       "</table>\n",
       "</div>"
      ],
      "text/plain": [
       "       SBET  a\\n(m2/g)  Vtoal b\\n(cm3/g)  Vmicro c\\n(cm3/g)           C  \\\n",
       "count       402.000000        402.000000         402.000000  398.000000   \n",
       "mean       1492.535249          0.766845           0.515224   77.046859   \n",
       "std         705.884298          0.460966           0.271530   11.081328   \n",
       "min          18.000000          0.020000           0.040000   40.400000   \n",
       "25%        1000.750000          0.450039           0.320000   70.557500   \n",
       "50%        1436.500000          0.660000           0.480000   79.175000   \n",
       "75%        1952.000000          0.967500           0.730000   85.070000   \n",
       "max        3247.000000          3.090000           1.180000   96.960000   \n",
       "\n",
       "                  H           N         O *      P(Bar)           T  \\\n",
       "count  3.710000e+02  402.000000  379.000000  402.000000  402.000000   \n",
       "mean   1.753854e+00    3.614527   17.660554    0.902736   18.905473   \n",
       "std    1.351289e+00    3.201667   10.206152    0.270918   10.747430   \n",
       "min   -7.105427e-15    0.000000    0.000000    0.150000    0.000000   \n",
       "25%    8.850000e-01    1.300000   10.610000    1.000000   25.000000   \n",
       "50%    1.620000e+00    2.605000   15.700000    1.000000   25.000000   \n",
       "75%    2.420000e+00    5.030000   22.460000    1.000000   25.000000   \n",
       "max    1.330000e+01   15.880000   54.000000    1.000000   25.000000   \n",
       "\n",
       "       C02 uptake amount  \n",
       "count         402.000000  \n",
       "mean            3.566667  \n",
       "std             1.547911  \n",
       "min             0.360000  \n",
       "25%             2.532500  \n",
       "50%             3.635000  \n",
       "75%             4.407500  \n",
       "max             8.200000  "
      ]
     },
     "execution_count": 3,
     "metadata": {},
     "output_type": "execute_result"
    }
   ],
   "source": [
    "df.describe()"
   ]
  },
  {
   "cell_type": "code",
   "execution_count": 4,
   "id": "eaf9716c",
   "metadata": {},
   "outputs": [
    {
     "data": {
      "text/plain": [
       "Index(['SBET  a\\n(m2/g)', 'Vtoal b\\n(cm3/g)', 'Vmicro c\\n(cm3/g)', 'C', 'H',\n",
       "       'N', 'O *', 'P(Bar)', 'T', 'C02 uptake amount'],\n",
       "      dtype='object')"
      ]
     },
     "execution_count": 4,
     "metadata": {},
     "output_type": "execute_result"
    }
   ],
   "source": [
    "df.columns"
   ]
  },
  {
   "cell_type": "code",
   "execution_count": 5,
   "id": "11d756ff",
   "metadata": {},
   "outputs": [],
   "source": [
    "df.rename(columns = {'SBET  a\\n(m2/g)':'SA','Vtoal b\\n(cm3/g)':'TPV','Vmicro c\\n(cm3/g)':'MPV','C02 uptake amount':'CO2'}, inplace = True)"
   ]
  },
  {
   "cell_type": "code",
   "execution_count": 6,
   "id": "5a112a02",
   "metadata": {},
   "outputs": [],
   "source": [
    "import miceforest as mf\n",
    "from sklearn.experimental import enable_iterative_imputer\n",
    "from sklearn.impute import IterativeImputer"
   ]
  },
  {
   "cell_type": "code",
   "execution_count": 7,
   "id": "5e07be9e",
   "metadata": {},
   "outputs": [],
   "source": [
    "imputer = IterativeImputer(random_state=10, max_iter=20,verbose=3)"
   ]
  },
  {
   "cell_type": "code",
   "execution_count": 8,
   "id": "0c6da868",
   "metadata": {},
   "outputs": [
    {
     "name": "stdout",
     "output_type": "stream",
     "text": [
      "[IterativeImputer] Completing matrix with shape (402, 10)\n",
      "[IterativeImputer] Ending imputation round 1/20, elapsed time 0.04\n",
      "[IterativeImputer] Change: 12.999697876053881, scaled tolerance: 3.247 \n",
      "[IterativeImputer] Ending imputation round 2/20, elapsed time 0.06\n",
      "[IterativeImputer] Change: 0.8621103908864569, scaled tolerance: 3.247 \n",
      "[IterativeImputer] Early stopping criterion reached.\n"
     ]
    },
    {
     "data": {
      "text/html": [
       "<style>#sk-container-id-1 {color: black;background-color: white;}#sk-container-id-1 pre{padding: 0;}#sk-container-id-1 div.sk-toggleable {background-color: white;}#sk-container-id-1 label.sk-toggleable__label {cursor: pointer;display: block;width: 100%;margin-bottom: 0;padding: 0.3em;box-sizing: border-box;text-align: center;}#sk-container-id-1 label.sk-toggleable__label-arrow:before {content: \"▸\";float: left;margin-right: 0.25em;color: #696969;}#sk-container-id-1 label.sk-toggleable__label-arrow:hover:before {color: black;}#sk-container-id-1 div.sk-estimator:hover label.sk-toggleable__label-arrow:before {color: black;}#sk-container-id-1 div.sk-toggleable__content {max-height: 0;max-width: 0;overflow: hidden;text-align: left;background-color: #f0f8ff;}#sk-container-id-1 div.sk-toggleable__content pre {margin: 0.2em;color: black;border-radius: 0.25em;background-color: #f0f8ff;}#sk-container-id-1 input.sk-toggleable__control:checked~div.sk-toggleable__content {max-height: 200px;max-width: 100%;overflow: auto;}#sk-container-id-1 input.sk-toggleable__control:checked~label.sk-toggleable__label-arrow:before {content: \"▾\";}#sk-container-id-1 div.sk-estimator input.sk-toggleable__control:checked~label.sk-toggleable__label {background-color: #d4ebff;}#sk-container-id-1 div.sk-label input.sk-toggleable__control:checked~label.sk-toggleable__label {background-color: #d4ebff;}#sk-container-id-1 input.sk-hidden--visually {border: 0;clip: rect(1px 1px 1px 1px);clip: rect(1px, 1px, 1px, 1px);height: 1px;margin: -1px;overflow: hidden;padding: 0;position: absolute;width: 1px;}#sk-container-id-1 div.sk-estimator {font-family: monospace;background-color: #f0f8ff;border: 1px dotted black;border-radius: 0.25em;box-sizing: border-box;margin-bottom: 0.5em;}#sk-container-id-1 div.sk-estimator:hover {background-color: #d4ebff;}#sk-container-id-1 div.sk-parallel-item::after {content: \"\";width: 100%;border-bottom: 1px solid gray;flex-grow: 1;}#sk-container-id-1 div.sk-label:hover label.sk-toggleable__label {background-color: #d4ebff;}#sk-container-id-1 div.sk-serial::before {content: \"\";position: absolute;border-left: 1px solid gray;box-sizing: border-box;top: 0;bottom: 0;left: 50%;z-index: 0;}#sk-container-id-1 div.sk-serial {display: flex;flex-direction: column;align-items: center;background-color: white;padding-right: 0.2em;padding-left: 0.2em;position: relative;}#sk-container-id-1 div.sk-item {position: relative;z-index: 1;}#sk-container-id-1 div.sk-parallel {display: flex;align-items: stretch;justify-content: center;background-color: white;position: relative;}#sk-container-id-1 div.sk-item::before, #sk-container-id-1 div.sk-parallel-item::before {content: \"\";position: absolute;border-left: 1px solid gray;box-sizing: border-box;top: 0;bottom: 0;left: 50%;z-index: -1;}#sk-container-id-1 div.sk-parallel-item {display: flex;flex-direction: column;z-index: 1;position: relative;background-color: white;}#sk-container-id-1 div.sk-parallel-item:first-child::after {align-self: flex-end;width: 50%;}#sk-container-id-1 div.sk-parallel-item:last-child::after {align-self: flex-start;width: 50%;}#sk-container-id-1 div.sk-parallel-item:only-child::after {width: 0;}#sk-container-id-1 div.sk-dashed-wrapped {border: 1px dashed gray;margin: 0 0.4em 0.5em 0.4em;box-sizing: border-box;padding-bottom: 0.4em;background-color: white;}#sk-container-id-1 div.sk-label label {font-family: monospace;font-weight: bold;display: inline-block;line-height: 1.2em;}#sk-container-id-1 div.sk-label-container {text-align: center;}#sk-container-id-1 div.sk-container {/* jupyter's `normalize.less` sets `[hidden] { display: none; }` but bootstrap.min.css set `[hidden] { display: none !important; }` so we also need the `!important` here to be able to override the default hidden behavior on the sphinx rendered scikit-learn.org. See: https://github.com/scikit-learn/scikit-learn/issues/21755 */display: inline-block !important;position: relative;}#sk-container-id-1 div.sk-text-repr-fallback {display: none;}</style><div id=\"sk-container-id-1\" class=\"sk-top-container\"><div class=\"sk-text-repr-fallback\"><pre>IterativeImputer(max_iter=20, random_state=10, verbose=3)</pre><b>In a Jupyter environment, please rerun this cell to show the HTML representation or trust the notebook. <br />On GitHub, the HTML representation is unable to render, please try loading this page with nbviewer.org.</b></div><div class=\"sk-container\" hidden><div class=\"sk-item\"><div class=\"sk-estimator sk-toggleable\"><input class=\"sk-toggleable__control sk-hidden--visually\" id=\"sk-estimator-id-1\" type=\"checkbox\" checked><label for=\"sk-estimator-id-1\" class=\"sk-toggleable__label sk-toggleable__label-arrow\">IterativeImputer</label><div class=\"sk-toggleable__content\"><pre>IterativeImputer(max_iter=20, random_state=10, verbose=3)</pre></div></div></div></div></div>"
      ],
      "text/plain": [
       "IterativeImputer(max_iter=20, random_state=10, verbose=3)"
      ]
     },
     "execution_count": 8,
     "metadata": {},
     "output_type": "execute_result"
    }
   ],
   "source": [
    "imputer.fit(df)"
   ]
  },
  {
   "cell_type": "code",
   "execution_count": 9,
   "id": "a1beae09",
   "metadata": {},
   "outputs": [
    {
     "name": "stdout",
     "output_type": "stream",
     "text": [
      "[IterativeImputer] Completing matrix with shape (402, 10)\n",
      "[IterativeImputer] Ending imputation round 1/2, elapsed time 0.00\n",
      "[IterativeImputer] Ending imputation round 2/2, elapsed time 0.00\n"
     ]
    }
   ],
   "source": [
    "df_imputed = imputer.transform(df)"
   ]
  },
  {
   "cell_type": "code",
   "execution_count": 10,
   "id": "57f4f1b5",
   "metadata": {},
   "outputs": [],
   "source": [
    "df=pd.DataFrame(df_imputed,columns=['SA', 'TPV', 'MPV', 'C', 'H', 'N', 'O *', 'P(Bar)', 'T', 'CO2'])"
   ]
  },
  {
   "cell_type": "code",
   "execution_count": 11,
   "id": "62a545f8",
   "metadata": {},
   "outputs": [
    {
     "data": {
      "text/html": [
       "<div>\n",
       "<style scoped>\n",
       "    .dataframe tbody tr th:only-of-type {\n",
       "        vertical-align: middle;\n",
       "    }\n",
       "\n",
       "    .dataframe tbody tr th {\n",
       "        vertical-align: top;\n",
       "    }\n",
       "\n",
       "    .dataframe thead th {\n",
       "        text-align: right;\n",
       "    }\n",
       "</style>\n",
       "<table border=\"1\" class=\"dataframe\">\n",
       "  <thead>\n",
       "    <tr style=\"text-align: right;\">\n",
       "      <th></th>\n",
       "      <th>SA</th>\n",
       "      <th>TPV</th>\n",
       "      <th>MPV</th>\n",
       "      <th>C</th>\n",
       "      <th>H</th>\n",
       "      <th>N</th>\n",
       "      <th>O *</th>\n",
       "      <th>P(Bar)</th>\n",
       "      <th>T</th>\n",
       "      <th>CO2</th>\n",
       "    </tr>\n",
       "  </thead>\n",
       "  <tbody>\n",
       "    <tr>\n",
       "      <th>0</th>\n",
       "      <td>645.0</td>\n",
       "      <td>0.26</td>\n",
       "      <td>0.25</td>\n",
       "      <td>70.86</td>\n",
       "      <td>1.71</td>\n",
       "      <td>3.19</td>\n",
       "      <td>14.72</td>\n",
       "      <td>0.15</td>\n",
       "      <td>25.0</td>\n",
       "      <td>1.43</td>\n",
       "    </tr>\n",
       "    <tr>\n",
       "      <th>1</th>\n",
       "      <td>750.0</td>\n",
       "      <td>0.30</td>\n",
       "      <td>0.29</td>\n",
       "      <td>83.88</td>\n",
       "      <td>1.63</td>\n",
       "      <td>3.27</td>\n",
       "      <td>5.30</td>\n",
       "      <td>0.15</td>\n",
       "      <td>25.0</td>\n",
       "      <td>1.46</td>\n",
       "    </tr>\n",
       "    <tr>\n",
       "      <th>2</th>\n",
       "      <td>1259.0</td>\n",
       "      <td>0.52</td>\n",
       "      <td>0.49</td>\n",
       "      <td>87.56</td>\n",
       "      <td>1.06</td>\n",
       "      <td>1.87</td>\n",
       "      <td>0.23</td>\n",
       "      <td>0.15</td>\n",
       "      <td>25.0</td>\n",
       "      <td>1.36</td>\n",
       "    </tr>\n",
       "    <tr>\n",
       "      <th>3</th>\n",
       "      <td>1476.0</td>\n",
       "      <td>0.61</td>\n",
       "      <td>0.60</td>\n",
       "      <td>91.62</td>\n",
       "      <td>0.80</td>\n",
       "      <td>1.67</td>\n",
       "      <td>0.00</td>\n",
       "      <td>0.15</td>\n",
       "      <td>25.0</td>\n",
       "      <td>1.30</td>\n",
       "    </tr>\n",
       "    <tr>\n",
       "      <th>4</th>\n",
       "      <td>1692.0</td>\n",
       "      <td>0.71</td>\n",
       "      <td>0.68</td>\n",
       "      <td>94.51</td>\n",
       "      <td>0.58</td>\n",
       "      <td>1.51</td>\n",
       "      <td>0.00</td>\n",
       "      <td>0.15</td>\n",
       "      <td>25.0</td>\n",
       "      <td>1.20</td>\n",
       "    </tr>\n",
       "    <tr>\n",
       "      <th>...</th>\n",
       "      <td>...</td>\n",
       "      <td>...</td>\n",
       "      <td>...</td>\n",
       "      <td>...</td>\n",
       "      <td>...</td>\n",
       "      <td>...</td>\n",
       "      <td>...</td>\n",
       "      <td>...</td>\n",
       "      <td>...</td>\n",
       "      <td>...</td>\n",
       "    </tr>\n",
       "    <tr>\n",
       "      <th>397</th>\n",
       "      <td>1165.0</td>\n",
       "      <td>1.03</td>\n",
       "      <td>0.91</td>\n",
       "      <td>64.70</td>\n",
       "      <td>1.50</td>\n",
       "      <td>10.40</td>\n",
       "      <td>23.25</td>\n",
       "      <td>1.00</td>\n",
       "      <td>0.0</td>\n",
       "      <td>5.30</td>\n",
       "    </tr>\n",
       "    <tr>\n",
       "      <th>398</th>\n",
       "      <td>2693.0</td>\n",
       "      <td>1.68</td>\n",
       "      <td>0.56</td>\n",
       "      <td>84.80</td>\n",
       "      <td>0.50</td>\n",
       "      <td>6.20</td>\n",
       "      <td>8.21</td>\n",
       "      <td>1.00</td>\n",
       "      <td>0.0</td>\n",
       "      <td>4.70</td>\n",
       "    </tr>\n",
       "    <tr>\n",
       "      <th>399</th>\n",
       "      <td>2731.0</td>\n",
       "      <td>1.89</td>\n",
       "      <td>1.12</td>\n",
       "      <td>86.80</td>\n",
       "      <td>1.80</td>\n",
       "      <td>2.60</td>\n",
       "      <td>7.90</td>\n",
       "      <td>1.00</td>\n",
       "      <td>0.0</td>\n",
       "      <td>4.10</td>\n",
       "    </tr>\n",
       "    <tr>\n",
       "      <th>400</th>\n",
       "      <td>2799.0</td>\n",
       "      <td>1.91</td>\n",
       "      <td>1.12</td>\n",
       "      <td>91.90</td>\n",
       "      <td>1.20</td>\n",
       "      <td>1.60</td>\n",
       "      <td>4.45</td>\n",
       "      <td>1.00</td>\n",
       "      <td>0.0</td>\n",
       "      <td>4.00</td>\n",
       "    </tr>\n",
       "    <tr>\n",
       "      <th>401</th>\n",
       "      <td>2511.0</td>\n",
       "      <td>1.35</td>\n",
       "      <td>1.16</td>\n",
       "      <td>76.38</td>\n",
       "      <td>1.48</td>\n",
       "      <td>7.21</td>\n",
       "      <td>14.93</td>\n",
       "      <td>1.00</td>\n",
       "      <td>0.0</td>\n",
       "      <td>7.19</td>\n",
       "    </tr>\n",
       "  </tbody>\n",
       "</table>\n",
       "<p>402 rows × 10 columns</p>\n",
       "</div>"
      ],
      "text/plain": [
       "         SA   TPV   MPV      C     H      N    O *  P(Bar)     T   CO2\n",
       "0     645.0  0.26  0.25  70.86  1.71   3.19  14.72    0.15  25.0  1.43\n",
       "1     750.0  0.30  0.29  83.88  1.63   3.27   5.30    0.15  25.0  1.46\n",
       "2    1259.0  0.52  0.49  87.56  1.06   1.87   0.23    0.15  25.0  1.36\n",
       "3    1476.0  0.61  0.60  91.62  0.80   1.67   0.00    0.15  25.0  1.30\n",
       "4    1692.0  0.71  0.68  94.51  0.58   1.51   0.00    0.15  25.0  1.20\n",
       "..      ...   ...   ...    ...   ...    ...    ...     ...   ...   ...\n",
       "397  1165.0  1.03  0.91  64.70  1.50  10.40  23.25    1.00   0.0  5.30\n",
       "398  2693.0  1.68  0.56  84.80  0.50   6.20   8.21    1.00   0.0  4.70\n",
       "399  2731.0  1.89  1.12  86.80  1.80   2.60   7.90    1.00   0.0  4.10\n",
       "400  2799.0  1.91  1.12  91.90  1.20   1.60   4.45    1.00   0.0  4.00\n",
       "401  2511.0  1.35  1.16  76.38  1.48   7.21  14.93    1.00   0.0  7.19\n",
       "\n",
       "[402 rows x 10 columns]"
      ]
     },
     "execution_count": 11,
     "metadata": {},
     "output_type": "execute_result"
    }
   ],
   "source": [
    "df"
   ]
  },
  {
   "cell_type": "code",
   "execution_count": 12,
   "id": "940e8172",
   "metadata": {},
   "outputs": [],
   "source": [
    "sum=df['C']+df[\"H\"]+df['N']+df['O *']"
   ]
  },
  {
   "cell_type": "code",
   "execution_count": 16,
   "id": "12401083",
   "metadata": {},
   "outputs": [
    {
     "name": "stdout",
     "output_type": "stream",
     "text": [
      "1 1\n",
      "1 2\n",
      "1 3\n",
      "1 4\n",
      "1 5\n",
      "1 6\n",
      "1 40\n",
      "1 41\n",
      "1 42\n",
      "1 43\n",
      "1 44\n",
      "1 45\n",
      "1 51\n",
      "1 52\n",
      "1 53\n",
      "1 54\n",
      "1 55\n",
      "1 56\n",
      "1 57\n",
      "1 58\n",
      "1 59\n",
      "1 86\n",
      "1 88\n",
      "1 89\n",
      "1 222\n",
      "25\n"
     ]
    }
   ],
   "source": [
    "c=0\n",
    "k=0\n",
    "for i in sum:\n",
    "    k+=1\n",
    "    if  i > 101 or i<99:\n",
    "        print(1,k)\n",
    "        c+=1\n",
    "   \n",
    "        \n",
    "        \n",
    "        \n",
    "print(c)"
   ]
  },
  {
   "cell_type": "code",
   "execution_count": 17,
   "id": "586ebad0",
   "metadata": {},
   "outputs": [],
   "source": [
    "from sklearn.model_selection import train_test_split\n",
    "X_train,X_test,y_train,y_test=train_test_split(df.drop(columns=['SA']),df['SA'],test_size=0.01,random_state=42)\n"
   ]
  },
  {
   "cell_type": "code",
   "execution_count": 15,
   "id": "bb06575f",
   "metadata": {},
   "outputs": [
    {
     "ename": "SyntaxError",
     "evalue": "invalid syntax (3689020865.py, line 1)",
     "output_type": "error",
     "traceback": [
      "\u001b[1;36m  File \u001b[1;32m\"C:\\Users\\niken\\AppData\\Local\\Temp\\ipykernel_18204\\3689020865.py\"\u001b[1;36m, line \u001b[1;32m1\u001b[0m\n\u001b[1;33m    SUM numbers\u001b[0m\n\u001b[1;37m        ^\u001b[0m\n\u001b[1;31mSyntaxError\u001b[0m\u001b[1;31m:\u001b[0m invalid syntax\n"
     ]
    }
   ],
   "source": [
    "SUM numbers\n",
    "Total numbers=402\n",
    "=100=315\n",
    "Total composition != 100 ->87\n",
    ">100=33\n",
    ">101=3\n",
    ">102=1\n",
    "<100=54\n",
    "<99=22\n",
    "<98=16\n",
    "<97=16\n",
    "<96=13\n",
    "<95=12\n",
    "<94=8\n",
    "<93,<92=7\n",
    "<91=6\n",
    "<90=2\n",
    "84<sum<85=2"
   ]
  },
  {
   "cell_type": "code",
   "execution_count": null,
   "id": "95fb9bf4",
   "metadata": {},
   "outputs": [],
   "source": [
    "df.corr()"
   ]
  },
  {
   "cell_type": "code",
   "execution_count": null,
   "id": "1b153bcd",
   "metadata": {},
   "outputs": [],
   "source": [
    "df.shape"
   ]
  },
  {
   "cell_type": "code",
   "execution_count": null,
   "id": "9f2bdec1",
   "metadata": {},
   "outputs": [],
   "source": [
    "#df.to_excel('main_data_for_working.xlsx')"
   ]
  },
  {
   "cell_type": "code",
   "execution_count": null,
   "id": "50fa88da",
   "metadata": {},
   "outputs": [],
   "source": []
  }
 ],
 "metadata": {
  "kernelspec": {
   "display_name": "Python 3 (ipykernel)",
   "language": "python",
   "name": "python3"
  },
  "language_info": {
   "codemirror_mode": {
    "name": "ipython",
    "version": 3
   },
   "file_extension": ".py",
   "mimetype": "text/x-python",
   "name": "python",
   "nbconvert_exporter": "python",
   "pygments_lexer": "ipython3",
   "version": "3.9.13"
  }
 },
 "nbformat": 4,
 "nbformat_minor": 5
}
