{
 "cells": [
  {
   "cell_type": "code",
   "execution_count": 2,
   "id": "2a0699e6",
   "metadata": {},
   "outputs": [],
   "source": [
    "import pandas as pd\n",
    "import numpy as np\n",
    "from sklearn.linear_model import LinearRegression\n",
    "import matplotlib.pyplot as plt\n",
    "from sklearn.ensemble import RandomForestRegressor\n",
    "from sklearn.model_selection import train_test_split\n",
    "from sklearn.tree import DecisionTreeClassifier"
   ]
  },
  {
   "cell_type": "code",
   "execution_count": 3,
   "id": "a429a874",
   "metadata": {},
   "outputs": [
    {
     "data": {
      "text/html": [
       "<div>\n",
       "<style scoped>\n",
       "    .dataframe tbody tr th:only-of-type {\n",
       "        vertical-align: middle;\n",
       "    }\n",
       "\n",
       "    .dataframe tbody tr th {\n",
       "        vertical-align: top;\n",
       "    }\n",
       "\n",
       "    .dataframe thead th {\n",
       "        text-align: right;\n",
       "    }\n",
       "</style>\n",
       "<table border=\"1\" class=\"dataframe\">\n",
       "  <thead>\n",
       "    <tr style=\"text-align: right;\">\n",
       "      <th></th>\n",
       "      <th>SA</th>\n",
       "      <th>TPV</th>\n",
       "      <th>MPV</th>\n",
       "      <th>C</th>\n",
       "      <th>H</th>\n",
       "      <th>N</th>\n",
       "      <th>O *</th>\n",
       "      <th>P(Bar)</th>\n",
       "      <th>T</th>\n",
       "      <th>CO2</th>\n",
       "    </tr>\n",
       "  </thead>\n",
       "  <tbody>\n",
       "    <tr>\n",
       "      <th>0</th>\n",
       "      <td>645.0</td>\n",
       "      <td>0.26</td>\n",
       "      <td>0.25</td>\n",
       "      <td>70.86</td>\n",
       "      <td>1.71</td>\n",
       "      <td>3.19</td>\n",
       "      <td>14.72</td>\n",
       "      <td>0.15</td>\n",
       "      <td>25</td>\n",
       "      <td>1.43</td>\n",
       "    </tr>\n",
       "    <tr>\n",
       "      <th>1</th>\n",
       "      <td>750.0</td>\n",
       "      <td>0.30</td>\n",
       "      <td>0.29</td>\n",
       "      <td>83.88</td>\n",
       "      <td>1.63</td>\n",
       "      <td>3.27</td>\n",
       "      <td>5.30</td>\n",
       "      <td>0.15</td>\n",
       "      <td>25</td>\n",
       "      <td>1.46</td>\n",
       "    </tr>\n",
       "    <tr>\n",
       "      <th>2</th>\n",
       "      <td>1259.0</td>\n",
       "      <td>0.52</td>\n",
       "      <td>0.49</td>\n",
       "      <td>87.56</td>\n",
       "      <td>1.06</td>\n",
       "      <td>1.87</td>\n",
       "      <td>9.51</td>\n",
       "      <td>0.15</td>\n",
       "      <td>25</td>\n",
       "      <td>1.36</td>\n",
       "    </tr>\n",
       "    <tr>\n",
       "      <th>3</th>\n",
       "      <td>1476.0</td>\n",
       "      <td>0.61</td>\n",
       "      <td>0.60</td>\n",
       "      <td>91.62</td>\n",
       "      <td>0.80</td>\n",
       "      <td>1.67</td>\n",
       "      <td>5.91</td>\n",
       "      <td>0.15</td>\n",
       "      <td>25</td>\n",
       "      <td>1.30</td>\n",
       "    </tr>\n",
       "    <tr>\n",
       "      <th>4</th>\n",
       "      <td>1692.0</td>\n",
       "      <td>0.71</td>\n",
       "      <td>0.68</td>\n",
       "      <td>94.51</td>\n",
       "      <td>0.58</td>\n",
       "      <td>1.51</td>\n",
       "      <td>3.40</td>\n",
       "      <td>0.15</td>\n",
       "      <td>25</td>\n",
       "      <td>1.20</td>\n",
       "    </tr>\n",
       "    <tr>\n",
       "      <th>...</th>\n",
       "      <td>...</td>\n",
       "      <td>...</td>\n",
       "      <td>...</td>\n",
       "      <td>...</td>\n",
       "      <td>...</td>\n",
       "      <td>...</td>\n",
       "      <td>...</td>\n",
       "      <td>...</td>\n",
       "      <td>...</td>\n",
       "      <td>...</td>\n",
       "    </tr>\n",
       "    <tr>\n",
       "      <th>397</th>\n",
       "      <td>1165.0</td>\n",
       "      <td>1.03</td>\n",
       "      <td>0.91</td>\n",
       "      <td>64.70</td>\n",
       "      <td>1.50</td>\n",
       "      <td>10.40</td>\n",
       "      <td>23.25</td>\n",
       "      <td>1.00</td>\n",
       "      <td>0</td>\n",
       "      <td>5.30</td>\n",
       "    </tr>\n",
       "    <tr>\n",
       "      <th>398</th>\n",
       "      <td>2693.0</td>\n",
       "      <td>1.68</td>\n",
       "      <td>0.56</td>\n",
       "      <td>84.80</td>\n",
       "      <td>0.50</td>\n",
       "      <td>6.20</td>\n",
       "      <td>8.21</td>\n",
       "      <td>1.00</td>\n",
       "      <td>0</td>\n",
       "      <td>4.70</td>\n",
       "    </tr>\n",
       "    <tr>\n",
       "      <th>399</th>\n",
       "      <td>2731.0</td>\n",
       "      <td>1.89</td>\n",
       "      <td>1.12</td>\n",
       "      <td>86.80</td>\n",
       "      <td>1.80</td>\n",
       "      <td>2.60</td>\n",
       "      <td>7.90</td>\n",
       "      <td>1.00</td>\n",
       "      <td>0</td>\n",
       "      <td>4.10</td>\n",
       "    </tr>\n",
       "    <tr>\n",
       "      <th>400</th>\n",
       "      <td>2799.0</td>\n",
       "      <td>1.91</td>\n",
       "      <td>1.12</td>\n",
       "      <td>91.90</td>\n",
       "      <td>1.20</td>\n",
       "      <td>1.60</td>\n",
       "      <td>4.45</td>\n",
       "      <td>1.00</td>\n",
       "      <td>0</td>\n",
       "      <td>4.00</td>\n",
       "    </tr>\n",
       "    <tr>\n",
       "      <th>401</th>\n",
       "      <td>2511.0</td>\n",
       "      <td>1.35</td>\n",
       "      <td>1.16</td>\n",
       "      <td>76.38</td>\n",
       "      <td>1.48</td>\n",
       "      <td>7.21</td>\n",
       "      <td>14.93</td>\n",
       "      <td>1.00</td>\n",
       "      <td>0</td>\n",
       "      <td>7.19</td>\n",
       "    </tr>\n",
       "  </tbody>\n",
       "</table>\n",
       "<p>402 rows × 10 columns</p>\n",
       "</div>"
      ],
      "text/plain": [
       "         SA   TPV   MPV      C     H      N    O *  P(Bar)   T   CO2\n",
       "0     645.0  0.26  0.25  70.86  1.71   3.19  14.72    0.15  25  1.43\n",
       "1     750.0  0.30  0.29  83.88  1.63   3.27   5.30    0.15  25  1.46\n",
       "2    1259.0  0.52  0.49  87.56  1.06   1.87   9.51    0.15  25  1.36\n",
       "3    1476.0  0.61  0.60  91.62  0.80   1.67   5.91    0.15  25  1.30\n",
       "4    1692.0  0.71  0.68  94.51  0.58   1.51   3.40    0.15  25  1.20\n",
       "..      ...   ...   ...    ...   ...    ...    ...     ...  ..   ...\n",
       "397  1165.0  1.03  0.91  64.70  1.50  10.40  23.25    1.00   0  5.30\n",
       "398  2693.0  1.68  0.56  84.80  0.50   6.20   8.21    1.00   0  4.70\n",
       "399  2731.0  1.89  1.12  86.80  1.80   2.60   7.90    1.00   0  4.10\n",
       "400  2799.0  1.91  1.12  91.90  1.20   1.60   4.45    1.00   0  4.00\n",
       "401  2511.0  1.35  1.16  76.38  1.48   7.21  14.93    1.00   0  7.19\n",
       "\n",
       "[402 rows x 10 columns]"
      ]
     },
     "execution_count": 3,
     "metadata": {},
     "output_type": "execute_result"
    }
   ],
   "source": [
    "df=pd.read_excel('main_data_for_working.xlsx')\n",
    "df.drop(columns='Unnamed: 0',inplace=True)\n",
    "df"
   ]
  },
  {
   "cell_type": "code",
   "execution_count": 4,
   "id": "71ab6209",
   "metadata": {},
   "outputs": [],
   "source": [
    "X=df.drop(columns=['CO2'])\n",
    "Y=df['CO2']\n",
    "X_train,X_test,y_train,y_test=train_test_split(X,Y,test_size=0.2,random_state=2)\n",
    "# test_size define test size of dataset (20% of dataset)\n",
    "#80% for training of dataset"
   ]
  },
  {
   "cell_type": "markdown",
   "id": "65eb0923",
   "metadata": {},
   "source": [
    "# GRADIENT BOOSTING"
   ]
  },
  {
   "cell_type": "code",
   "execution_count": 5,
   "id": "725322af",
   "metadata": {},
   "outputs": [],
   "source": [
    "from sklearn.ensemble import GradientBoostingRegressor\n",
    "model = GradientBoostingRegressor(random_state=40)"
   ]
  },
  {
   "cell_type": "code",
   "execution_count": 6,
   "id": "eb98c432",
   "metadata": {},
   "outputs": [
    {
     "data": {
      "text/plain": [
       "GradientBoostingRegressor(random_state=40)"
      ]
     },
     "execution_count": 6,
     "metadata": {},
     "output_type": "execute_result"
    }
   ],
   "source": [
    "model.fit(X_train, y_train)    #fitting our training datset in our  model"
   ]
  },
  {
   "cell_type": "code",
   "execution_count": 7,
   "id": "40ddd8e2",
   "metadata": {},
   "outputs": [],
   "source": [
    "y_pred=model.predict(X_test)   #we are evaluating the test dataset  "
   ]
  },
  {
   "cell_type": "code",
   "execution_count": 8,
   "id": "ee5d1109",
   "metadata": {},
   "outputs": [
    {
     "data": {
      "text/plain": [
       "0.8204775489125578"
      ]
     },
     "execution_count": 8,
     "metadata": {},
     "output_type": "execute_result"
    }
   ],
   "source": [
    "from sklearn.metrics import r2_score\n",
    "r2_score(y_test,y_pred)   #R-squared value for gradient boosting for Test Data"
   ]
  },
  {
   "cell_type": "code",
   "execution_count": 9,
   "id": "21d83abc",
   "metadata": {},
   "outputs": [],
   "source": [
    "y_pred1=model.predict(X_train)"
   ]
  },
  {
   "cell_type": "code",
   "execution_count": 10,
   "id": "a03e07dc",
   "metadata": {},
   "outputs": [
    {
     "data": {
      "text/plain": [
       "0.9439864494417677"
      ]
     },
     "execution_count": 10,
     "metadata": {},
     "output_type": "execute_result"
    }
   ],
   "source": [
    "from sklearn.metrics import r2_score\n",
    "r2_score(y_train, y_pred1)   #R-squared value for gradient boosting for Training Data"
   ]
  },
  {
   "cell_type": "code",
   "execution_count": 16,
   "id": "326184ff",
   "metadata": {},
   "outputs": [
    {
     "data": {
      "text/plain": [
       "Text(0.5, 1.0, 'GRADIENT BOOSTING')"
      ]
     },
     "execution_count": 16,
     "metadata": {},
     "output_type": "execute_result"
    },
    {
     "data": {
      "image/png": "[encoded data removed]",
      "text/plain": [
       "<Figure size 1080x720 with 1 Axes>"
      ]
     },
     "metadata": {
      "needs_background": "light"
     },
     "output_type": "display_data"
    }
   ],
   "source": [
    "import matplotlib.pyplot as plt\n",
    "plt.figure(figsize=(15,10))\n",
    "plt.scatter(y_test,y_pred,label='Test')\n",
    "plt.scatter(y_train, y_pred1,label='Train')\n",
    "plt.legend()\n",
    "plt.plot(y)\n",
    "plt.xlabel(\"Actual CO2 adsorbed (mmol/g)\")\n",
    "plt.ylabel(\"Predicted CO2 absorbed (mmol/g)\")\n",
    "plt.title(\"GRADIENT BOOSTING\")"
   ]
  },
  {
   "cell_type": "markdown",
   "id": "606fa0a7",
   "metadata": {},
   "source": [
    "# XGBoost"
   ]
  },
  {
   "cell_type": "code",
   "execution_count": 10,
   "id": "c1be0267",
   "metadata": {},
   "outputs": [],
   "source": [
    "# import xgboost"
   ]
  },
  {
   "cell_type": "code",
   "execution_count": 17,
   "id": "bb518d91",
   "metadata": {},
   "outputs": [
    {
     "data": {
      "text/plain": [
       "XGBRegressor(base_score=None, booster=None, callbacks=None,\n",
       "             colsample_bylevel=None, colsample_bynode=None,\n",
       "             colsample_bytree=None, early_stopping_rounds=None,\n",
       "             enable_categorical=False, eval_metric=None, feature_types=None,\n",
       "             gamma=None, gpu_id=None, grow_policy=None, importance_type=None,\n",
       "             interaction_constraints=None, learning_rate=None, max_bin=None,\n",
       "             max_cat_threshold=None, max_cat_to_onehot=None,\n",
       "             max_delta_step=None, max_depth=5, max_leaves=None,\n",
       "             min_child_weight=None, missing=nan, monotone_constraints=None,\n",
       "             n_estimators=100, n_jobs=None, num_parallel_tree=None,\n",
       "             predictor=None, random_state=None, ...)"
      ]
     },
     "execution_count": 17,
     "metadata": {},
     "output_type": "execute_result"
    }
   ],
   "source": [
    "from xgboost import XGBRegressor\n",
    "model = XGBRegressor(objective='reg:squarederror',max_depth=5)\n",
    "model.fit(X_train, y_train)     #fitting our training datset in our  model"
   ]
  },
  {
   "cell_type": "code",
   "execution_count": 22,
   "id": "64f57c31",
   "metadata": {},
   "outputs": [
    {
     "data": {
      "text/plain": [
       "0.7904632994025973"
      ]
     },
     "execution_count": 22,
     "metadata": {},
     "output_type": "execute_result"
    }
   ],
   "source": [
    "y2_pred=model.predict(X_test)   #we are evaluating the test dataset \n",
    "r2_score(y_test,y2_pred)        #R-squared value for extreme gradient boosting for Test Data"
   ]
  },
  {
   "cell_type": "code",
   "execution_count": 23,
   "id": "d56ff5a4",
   "metadata": {},
   "outputs": [
    {
     "data": {
      "text/plain": [
       "0.9997758232643305"
      ]
     },
     "execution_count": 23,
     "metadata": {},
     "output_type": "execute_result"
    }
   ],
   "source": [
    "y2_pred1=model.predict(X_train)\n",
    "from sklearn.metrics import r2_score\n",
    "r2_score(y_train, y2_pred1)   #R-squared value for extreme gradient boosting for Training Data"
   ]
  },
  {
   "cell_type": "code",
   "execution_count": 32,
   "id": "98833f01",
   "metadata": {},
   "outputs": [
    {
     "data": {
      "text/plain": [
       "Text(0.5, 1.0, 'XTREAM GRADIENT BOOSTING')"
      ]
     },
     "execution_count": 32,
     "metadata": {},
     "output_type": "execute_result"
    },
    {
     "data": {
      "image/png": "[encoded data removed]",
      "text/plain": [
       "<Figure size 1080x720 with 1 Axes>"
      ]
     },
     "metadata": {
      "needs_background": "light"
     },
     "output_type": "display_data"
    }
   ],
   "source": [
    "import matplotlib.pyplot as plt\n",
    "plt.figure(figsize=(15,10))\n",
    "plt.scatter(y_test,y2_pred,label='Test')\n",
    "plt.scatter(y_train, y2_pred1,label='Train')\n",
    "plt.legend()\n",
    "plt.xlabel(\"Actual CO2 adsorbed (mmol/g)\")\n",
    "plt.ylabel(\"Predicted CO2 absorbed (mmol/g)\")\n",
    "plt.title(\"XTREAM GRADIENT BOOSTING\")"
   ]
  },
  {
   "cell_type": "markdown",
   "id": "3f68f5c8",
   "metadata": {},
   "source": [
    "# LGBoost"
   ]
  },
  {
   "cell_type": "code",
   "execution_count": 26,
   "id": "1108cdd0",
   "metadata": {},
   "outputs": [
    {
     "data": {
      "text/plain": [
       "LGBMRegressor(random_state=5)"
      ]
     },
     "execution_count": 26,
     "metadata": {},
     "output_type": "execute_result"
    }
   ],
   "source": [
    "from lightgbm import LGBMRegressor\n",
    "model = LGBMRegressor(random_state=5)\n",
    "model.fit(X_train, y_train)       #fitting our training datset in our  model"
   ]
  },
  {
   "cell_type": "code",
   "execution_count": 27,
   "id": "4841f351",
   "metadata": {},
   "outputs": [
    {
     "data": {
      "text/plain": [
       "0.834569623969357"
      ]
     },
     "execution_count": 27,
     "metadata": {},
     "output_type": "execute_result"
    }
   ],
   "source": [
    "y3_pred=model.predict(X_test)     #we are evaluating the test dataset \n",
    "r2_score(y_test,y3_pred)          #R-squared value for Light gradient boosting for Test Data"
   ]
  },
  {
   "cell_type": "code",
   "execution_count": 28,
   "id": "19d66c72",
   "metadata": {},
   "outputs": [],
   "source": [
    "y3_pred1=model.predict(X_train)"
   ]
  },
  {
   "cell_type": "code",
   "execution_count": 29,
   "id": "7f9307a5",
   "metadata": {},
   "outputs": [
    {
     "data": {
      "text/plain": [
       "0.9540485338901844"
      ]
     },
     "execution_count": 29,
     "metadata": {},
     "output_type": "execute_result"
    }
   ],
   "source": [
    "from sklearn.metrics import r2_score\n",
    "r2_score(y_train, y3_pred1)   #R-squared value for Light gradient boosting for Training Data"
   ]
  },
  {
   "cell_type": "code",
   "execution_count": 31,
   "id": "54183df7",
   "metadata": {},
   "outputs": [
    {
     "data": {
      "text/plain": [
       "Text(0.5, 1.0, 'LIGHT GRADIENT BOOSTING')"
      ]
     },
     "execution_count": 31,
     "metadata": {},
     "output_type": "execute_result"
    },
    {
     "data": {
      "image/png": "[encoded data removed]",
      "text/plain": [
       "<Figure size 1080x720 with 1 Axes>"
      ]
     },
     "metadata": {
      "needs_background": "light"
     },
     "output_type": "display_data"
    }
   ],
   "source": [
    "import matplotlib.pyplot as plt\n",
    "plt.figure(figsize=(15,10))\n",
    "plt.scatter(y_test,y3_pred,label='Test')\n",
    "plt.scatter(y_train, y3_pred1,label='Train')\n",
    "plt.legend()\n",
    "plt.xlabel(\"Actual CO2 adsorbed (mmol/g)\")\n",
    "plt.ylabel(\"Predicted CO2 absorbed (mmol/g)\")\n",
    "plt.title(\"LIGHT GRADIENT BOOSTING\")"
   ]
  },
  {
   "cell_type": "markdown",
   "id": "78aacbcc",
   "metadata": {},
   "source": [
    "# K-Fold Cross Validation"
   ]
  },
  {
   "cell_type": "code",
   "execution_count": 25,
   "id": "018bd226",
   "metadata": {},
   "outputs": [],
   "source": [
    "from sklearn.model_selection import cross_val_score"
   ]
  },
  {
   "cell_type": "code",
   "execution_count": 110,
   "id": "5f486d0b",
   "metadata": {},
   "outputs": [
    {
     "data": {
      "text/plain": [
       "array([-1.15462765,  0.39022589,  0.16213004,  0.33144595,  0.52964428])"
      ]
     },
     "execution_count": 110,
     "metadata": {},
     "output_type": "execute_result"
    }
   ],
   "source": [
    "cross_val_score(GradientBoostingRegressor(n_estimators=42),X,Y)"
   ]
  },
  {
   "cell_type": "code",
   "execution_count": 111,
   "id": "b9558262",
   "metadata": {},
   "outputs": [
    {
     "data": {
      "text/plain": [
       "array([-0.4112235 ,  0.31162577, -1.11368824, -0.36867906,  0.15505047])"
      ]
     },
     "execution_count": 111,
     "metadata": {},
     "output_type": "execute_result"
    }
   ],
   "source": [
    "cross_val_score(XGBRegressor(n_estimators=5),X,Y)"
   ]
  },
  {
   "cell_type": "code",
   "execution_count": 112,
   "id": "bda2aa05",
   "metadata": {},
   "outputs": [
    {
     "data": {
      "text/plain": [
       "array([-1.30234425,  0.50787264,  0.14397871,  0.34990319, -0.40607863])"
      ]
     },
     "execution_count": 112,
     "metadata": {},
     "output_type": "execute_result"
    }
   ],
   "source": [
    "cross_val_score(LGBMRegressor(n_estimators=42),X,Y)"
   ]
  },
  {
   "cell_type": "code",
   "execution_count": null,
   "id": "0ba0d2d8",
   "metadata": {},
   "outputs": [],
   "source": []
  }
 ],
 "metadata": {
  "kernelspec": {
   "display_name": "Python 3 (ipykernel)",
   "language": "python",
   "name": "python3"
  },
  "language_info": {
   "codemirror_mode": {
    "name": "ipython",
    "version": 3
   },
   "file_extension": ".py",
   "mimetype": "text/x-python",
   "name": "python",
   "nbconvert_exporter": "python",
   "pygments_lexer": "ipython3",
   "version": "3.9.12"
  }
 },
 "nbformat": 4,
 "nbformat_minor": 5
}
